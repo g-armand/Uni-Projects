{
  "nbformat": 4,
  "nbformat_minor": 0,
  "metadata": {
    "colab": {
      "provenance": []
    },
    "kernelspec": {
      "name": "python3",
      "display_name": "Python 3"
    },
    "language_info": {
      "name": "python"
    }
  },
  "cells": [
    {
      "cell_type": "code",
      "source": [
        "!python -m spacy download fr_core_news_sm"
      ],
      "metadata": {
        "colab": {
          "base_uri": "https://localhost:8080/"
        },
        "id": "ik59cXb9DTLb",
        "outputId": "7f98dda6-433c-492f-c0a0-58b5208c56ca"
      },
      "execution_count": null,
      "outputs": [
        {
          "output_type": "stream",
          "name": "stdout",
          "text": [
            "2022-10-13 09:40:37.524144: E tensorflow/stream_executor/cuda/cuda_driver.cc:271] failed call to cuInit: CUDA_ERROR_NO_DEVICE: no CUDA-capable device is detected\n",
            "Looking in indexes: https://pypi.org/simple, https://us-python.pkg.dev/colab-wheels/public/simple/\n",
            "Collecting fr-core-news-sm==3.4.0\n",
            "  Downloading https://github.com/explosion/spacy-models/releases/download/fr_core_news_sm-3.4.0/fr_core_news_sm-3.4.0-py3-none-any.whl (16.3 MB)\n",
            "\u001b[K     |████████████████████████████████| 16.3 MB 209 kB/s \n",
            "\u001b[?25hRequirement already satisfied: spacy<3.5.0,>=3.4.0 in /usr/local/lib/python3.7/dist-packages (from fr-core-news-sm==3.4.0) (3.4.1)\n",
            "Requirement already satisfied: spacy-loggers<2.0.0,>=1.0.0 in /usr/local/lib/python3.7/dist-packages (from spacy<3.5.0,>=3.4.0->fr-core-news-sm==3.4.0) (1.0.3)\n",
            "Requirement already satisfied: catalogue<2.1.0,>=2.0.6 in /usr/local/lib/python3.7/dist-packages (from spacy<3.5.0,>=3.4.0->fr-core-news-sm==3.4.0) (2.0.8)\n",
            "Requirement already satisfied: murmurhash<1.1.0,>=0.28.0 in /usr/local/lib/python3.7/dist-packages (from spacy<3.5.0,>=3.4.0->fr-core-news-sm==3.4.0) (1.0.8)\n",
            "Requirement already satisfied: typer<0.5.0,>=0.3.0 in /usr/local/lib/python3.7/dist-packages (from spacy<3.5.0,>=3.4.0->fr-core-news-sm==3.4.0) (0.4.2)\n",
            "Requirement already satisfied: srsly<3.0.0,>=2.4.3 in /usr/local/lib/python3.7/dist-packages (from spacy<3.5.0,>=3.4.0->fr-core-news-sm==3.4.0) (2.4.4)\n",
            "Requirement already satisfied: pydantic!=1.8,!=1.8.1,<1.10.0,>=1.7.4 in /usr/local/lib/python3.7/dist-packages (from spacy<3.5.0,>=3.4.0->fr-core-news-sm==3.4.0) (1.9.2)\n",
            "Requirement already satisfied: packaging>=20.0 in /usr/local/lib/python3.7/dist-packages (from spacy<3.5.0,>=3.4.0->fr-core-news-sm==3.4.0) (21.3)\n",
            "Requirement already satisfied: cymem<2.1.0,>=2.0.2 in /usr/local/lib/python3.7/dist-packages (from spacy<3.5.0,>=3.4.0->fr-core-news-sm==3.4.0) (2.0.6)\n",
            "Requirement already satisfied: tqdm<5.0.0,>=4.38.0 in /usr/local/lib/python3.7/dist-packages (from spacy<3.5.0,>=3.4.0->fr-core-news-sm==3.4.0) (4.64.1)\n",
            "Requirement already satisfied: spacy-legacy<3.1.0,>=3.0.9 in /usr/local/lib/python3.7/dist-packages (from spacy<3.5.0,>=3.4.0->fr-core-news-sm==3.4.0) (3.0.10)\n",
            "Requirement already satisfied: preshed<3.1.0,>=3.0.2 in /usr/local/lib/python3.7/dist-packages (from spacy<3.5.0,>=3.4.0->fr-core-news-sm==3.4.0) (3.0.7)\n",
            "Requirement already satisfied: jinja2 in /usr/local/lib/python3.7/dist-packages (from spacy<3.5.0,>=3.4.0->fr-core-news-sm==3.4.0) (2.11.3)\n",
            "Requirement already satisfied: wasabi<1.1.0,>=0.9.1 in /usr/local/lib/python3.7/dist-packages (from spacy<3.5.0,>=3.4.0->fr-core-news-sm==3.4.0) (0.10.1)\n",
            "Requirement already satisfied: numpy>=1.15.0 in /usr/local/lib/python3.7/dist-packages (from spacy<3.5.0,>=3.4.0->fr-core-news-sm==3.4.0) (1.21.6)\n",
            "Requirement already satisfied: pathy>=0.3.5 in /usr/local/lib/python3.7/dist-packages (from spacy<3.5.0,>=3.4.0->fr-core-news-sm==3.4.0) (0.6.2)\n",
            "Requirement already satisfied: typing-extensions<4.2.0,>=3.7.4 in /usr/local/lib/python3.7/dist-packages (from spacy<3.5.0,>=3.4.0->fr-core-news-sm==3.4.0) (4.1.1)\n",
            "Requirement already satisfied: requests<3.0.0,>=2.13.0 in /usr/local/lib/python3.7/dist-packages (from spacy<3.5.0,>=3.4.0->fr-core-news-sm==3.4.0) (2.23.0)\n",
            "Requirement already satisfied: thinc<8.2.0,>=8.1.0 in /usr/local/lib/python3.7/dist-packages (from spacy<3.5.0,>=3.4.0->fr-core-news-sm==3.4.0) (8.1.3)\n",
            "Requirement already satisfied: setuptools in /usr/local/lib/python3.7/dist-packages (from spacy<3.5.0,>=3.4.0->fr-core-news-sm==3.4.0) (57.4.0)\n",
            "Requirement already satisfied: langcodes<4.0.0,>=3.2.0 in /usr/local/lib/python3.7/dist-packages (from spacy<3.5.0,>=3.4.0->fr-core-news-sm==3.4.0) (3.3.0)\n",
            "Requirement already satisfied: zipp>=0.5 in /usr/local/lib/python3.7/dist-packages (from catalogue<2.1.0,>=2.0.6->spacy<3.5.0,>=3.4.0->fr-core-news-sm==3.4.0) (3.9.0)\n",
            "Requirement already satisfied: pyparsing!=3.0.5,>=2.0.2 in /usr/local/lib/python3.7/dist-packages (from packaging>=20.0->spacy<3.5.0,>=3.4.0->fr-core-news-sm==3.4.0) (3.0.9)\n",
            "Requirement already satisfied: smart-open<6.0.0,>=5.2.1 in /usr/local/lib/python3.7/dist-packages (from pathy>=0.3.5->spacy<3.5.0,>=3.4.0->fr-core-news-sm==3.4.0) (5.2.1)\n",
            "Requirement already satisfied: urllib3!=1.25.0,!=1.25.1,<1.26,>=1.21.1 in /usr/local/lib/python3.7/dist-packages (from requests<3.0.0,>=2.13.0->spacy<3.5.0,>=3.4.0->fr-core-news-sm==3.4.0) (1.24.3)\n",
            "Requirement already satisfied: chardet<4,>=3.0.2 in /usr/local/lib/python3.7/dist-packages (from requests<3.0.0,>=2.13.0->spacy<3.5.0,>=3.4.0->fr-core-news-sm==3.4.0) (3.0.4)\n",
            "Requirement already satisfied: certifi>=2017.4.17 in /usr/local/lib/python3.7/dist-packages (from requests<3.0.0,>=2.13.0->spacy<3.5.0,>=3.4.0->fr-core-news-sm==3.4.0) (2022.9.24)\n",
            "Requirement already satisfied: idna<3,>=2.5 in /usr/local/lib/python3.7/dist-packages (from requests<3.0.0,>=2.13.0->spacy<3.5.0,>=3.4.0->fr-core-news-sm==3.4.0) (2.10)\n",
            "Requirement already satisfied: blis<0.8.0,>=0.7.8 in /usr/local/lib/python3.7/dist-packages (from thinc<8.2.0,>=8.1.0->spacy<3.5.0,>=3.4.0->fr-core-news-sm==3.4.0) (0.7.8)\n",
            "Requirement already satisfied: confection<1.0.0,>=0.0.1 in /usr/local/lib/python3.7/dist-packages (from thinc<8.2.0,>=8.1.0->spacy<3.5.0,>=3.4.0->fr-core-news-sm==3.4.0) (0.0.3)\n",
            "Requirement already satisfied: click<9.0.0,>=7.1.1 in /usr/local/lib/python3.7/dist-packages (from typer<0.5.0,>=0.3.0->spacy<3.5.0,>=3.4.0->fr-core-news-sm==3.4.0) (7.1.2)\n",
            "Requirement already satisfied: MarkupSafe>=0.23 in /usr/local/lib/python3.7/dist-packages (from jinja2->spacy<3.5.0,>=3.4.0->fr-core-news-sm==3.4.0) (2.0.1)\n",
            "Installing collected packages: fr-core-news-sm\n",
            "Successfully installed fr-core-news-sm-3.4.0\n",
            "\u001b[38;5;2m✔ Download and installation successful\u001b[0m\n",
            "You can now load the package via spacy.load('fr_core_news_sm')\n"
          ]
        }
      ]
    },
    {
      "cell_type": "code",
      "execution_count": null,
      "metadata": {
        "id": "C2acfMSD5R7o"
      },
      "outputs": [],
      "source": [
        "\n",
        "#imports\n",
        "import spacy\n",
        "from spacy.tokens import Doc\n",
        "import json\n",
        "import numpy as np\n"
      ]
    },
    {
      "cell_type": "code",
      "source": [
        "def predict_pos(sentence, model):\n",
        "  model.tokenizer = lambda x: Doc(model.vocab, x.split(\"|\"))\n",
        "  return [token.pos_ for token in model(sentence)]\n",
        "\n",
        "\n",
        "model = spacy.load(\"fr_core_news_sm\")"
      ],
      "metadata": {
        "id": "hIGKoRIuEcQO"
      },
      "execution_count": null,
      "outputs": []
    },
    {
      "cell_type": "markdown",
      "source": [
        "1-\n",
        "A lambda function allows to get the result of a function, without having to declare such a function. As it is a single line function, it saves time and space.\n",
        "On line 4 we use a lambda function to act as a 'constructor' and pass all parameters a Doc object needs.\n",
        "\n",
        "2-\n",
        "\"[token.pos_ for token in model(sentence)]\" is a list comprehension.\n",
        "Here it defines a list of POS tags returned by the \"fr_core_news_sm\" model when applied to a sentence."
      ],
      "metadata": {
        "id": "IlDRTc5IKRbE"
      }
    },
    {
      "cell_type": "code",
      "source": [
        "def tag_sentences(sentences_list):\n",
        "  pos_tagged_sentences = []\n",
        "  for sentence in sentences_list:\n",
        "    if type(sentence) == list:\n",
        "      pos_list = predict_pos('|'.join(sentence), model)\n",
        "    elif type(sentence) == str:\n",
        "      pos_list = predict_pos(sentence.replace(\" \",\"|\"), model)\n",
        "    pos_tagged_sentences.append(pos_list)\n",
        "  return pos_tagged_sentences\n",
        "\n",
        "print(tag_sentences([['Allez', '20 000',  'le' ,'foot', '!'],['Allez', '20 000',  'le' ,'foot', '!']]))\n",
        "print(tag_sentences([\"youpi le foot\"]))"
      ],
      "metadata": {
        "colab": {
          "base_uri": "https://localhost:8080/"
        },
        "id": "uoJqQOkjKVh2",
        "outputId": "fa630886-7cf6-411c-aab9-7c5c06526511"
      },
      "execution_count": null,
      "outputs": [
        {
          "output_type": "stream",
          "name": "stdout",
          "text": [
            "[['PROPN', 'NUM', 'DET', 'NOUN', 'PUNCT'], ['PROPN', 'NUM', 'DET', 'NOUN', 'PUNCT']]\n",
            "[['NOUN', 'DET', 'NOUN']]\n"
          ]
        }
      ]
    },
    {
      "cell_type": "markdown",
      "source": [
        "4. Why do we (have to) consider tokenized sentences to evaluate a PoS tagger?\n",
        "We need to consider tokenized sentences instead of full sentences because it would be very difficult, costly to train a POS tagger on sentences, since it can exists an infinity of sentences: it would not make sense. That's why we are training and evaluating POS taggers on sequences of tokens, and not on full sentences."
      ],
      "metadata": {
        "id": "QKpUccOLMerL"
      }
    },
    {
      "cell_type": "code",
      "source": [
        "def compute_accuracy(prediction_list, gold_list):\n",
        "  sentences_count = len(prediction_list)\n",
        "  well_tagged_sentences = sum([pred==gold for pred, gold in zip(prediction_list, gold_list)])\n",
        "  return 1/sentences_count * well_tagged_sentences\n",
        "\n",
        "def compute_micro_accuracy(prediction_list, gold_list):\n",
        "  prediction_list = list(np.concatenate(prediction_list))\n",
        "  gold_list = list(np.concatenate(gold_list))\n",
        "  well_tagged_words = 0\n",
        "  well_tagged_words += sum([pred==gold for pred, gold in zip(prediction_list, gold_list)])\n",
        "  return 1/len(gold_list) * well_tagged_words\n",
        "\n",
        "def compute_macro_accuracy(prediction_list, gold_list):\n",
        "    prediction_list = list(np.concatenate(prediction_list))\n",
        "    gold_list = list(np.concatenate(gold_list))\n",
        "    tag_dict = {}\n",
        "    for pred, gold in zip(prediction_list, gold_list):\n",
        "        if pred == gold:\n",
        "            tag_dict[gold] = tag_dict.setdefault(gold, 0) + 1\n",
        "    accuracy = sum([tag_dict.get(tag)/gold_list.count(tag) for tag in tag_dict])\n",
        "    return accuracy / len(tag_dict)\n",
        "\n",
        "def compute_sentence_error_rate(prediction_list, gold_list):\n",
        "  return 1- compute_accuracy(prediction_list, gold_list)\n",
        "\n",
        "def compute_word_error_rate(prediction_list, gold_list):\n",
        "  return 1- compute_micro_accuracy(prediction_list, gold_list)"
      ],
      "metadata": {
        "id": "fcPiOPfxNh2X"
      },
      "execution_count": null,
      "outputs": []
    },
    {
      "cell_type": "code",
      "source": [
        "import pandas as pd\n",
        "import requests\n",
        "import re\n",
        "def read_json_github(path):\n",
        "  corpus = requests.get(path).json()\n",
        "  golds = []\n",
        "  if(re.match(\".+sequoia.test.json$\", path)):\n",
        "    golds = [dico.get(\"gold_labels\") for dico in corpus]\n",
        "  elif(re.match(\".+minecraft.json\", path)):\n",
        "    golds = [dico.get(\"gold_tags\") for dico in corpus]\n",
        "  tokens = [dico.get(\"tokenized_sentence\") for dico in corpus]\n",
        "  return tokens, golds\n",
        "\n",
        "sequoia_tokens, sequoia_gold = read_json_github(\"https://raw.githubusercontent.com/g-armand/make-it-public/main/sequoia.test.json\")\n",
        "sequoia_pred = tag_sentences(sequoia_tokens)\n",
        "print(\"sentence accuracy: \",compute_accuracy(sequoia_pred, sequoia_gold))\n",
        "print(\"micro accuracy: \", compute_micro_accuracy(sequoia_pred, sequoia_gold))\n",
        "print(\"macro accuracy: \", compute_macro_accuracy(sequoia_pred, sequoia_gold))\n"
      ],
      "metadata": {
        "id": "ECOvl84vHR_V",
        "colab": {
          "base_uri": "https://localhost:8080/"
        },
        "outputId": "1d64b9f4-7c65-497d-ce35-eab1bab9c346"
      },
      "execution_count": null,
      "outputs": [
        {
          "output_type": "stream",
          "name": "stdout",
          "text": [
            "sentence accuracy:  0.5899122807017544\n",
            "micro accuracy:  0.9639585822381521\n",
            "macro accuracy:  0.8855232239448435\n"
          ]
        }
      ]
    },
    {
      "cell_type": "code",
      "source": [
        "print(\"there are {} sentences in corpus\".format(len(sequoia_tokens)))\n",
        "print(\"there are {} words in corpus\".format(sum([len(sentence) for sentence in sequoia_tokens])))"
      ],
      "metadata": {
        "id": "Vqtaa8BnnZDV",
        "colab": {
          "base_uri": "https://localhost:8080/"
        },
        "outputId": "7a2d02d8-aa17-4e22-fc46-fbd7e3015936"
      },
      "execution_count": null,
      "outputs": [
        {
          "output_type": "stream",
          "name": "stdout",
          "text": [
            "there are 456 sentences in corpus\n",
            "there are 10044 words in corpus\n"
          ]
        }
      ]
    },
    {
      "cell_type": "code",
      "source": [
        "import random\n",
        "def compute_error_rate_random(func, sample, sample_size):\n",
        "    sample = random.sample(sample, sample_size * len(sample) // 100)\n",
        "    sentences = [tup[0] for tup in sample]\n",
        "    gold = [tup[1] for tup in sample]\n",
        "    return func(sentences, gold)\n",
        "\n",
        "sample = [(pred, gold) for pred, gold in zip(sequoia_pred, sequoia_gold)]\n",
        "print(compute_error_rate_random(compute_macro_accuracy,sample, 80))\n",
        "print(compute_error_rate_random(compute_micro_accuracy,sample, 80))\n",
        "print(compute_error_rate_random(compute_accuracy,sample, 80))"
      ],
      "metadata": {
        "id": "w4DZLpoTR4-3",
        "colab": {
          "base_uri": "https://localhost:8080/"
        },
        "outputId": "33f3dde1-f830-4f8d-b6f0-0674f0e1964e"
      },
      "execution_count": null,
      "outputs": [
        {
          "output_type": "stream",
          "name": "stdout",
          "text": [
            "0.8747433268706146\n",
            "0.9649829184968277\n",
            "0.5961538461538461\n"
          ]
        }
      ]
    },
    {
      "cell_type": "markdown",
      "source": [
        "Question 10:\n",
        "The code below computes 1000 times the sentence accuracy from a random sample (sample size = 50% of the corpus). When visualizing the scores distribution, we notice that the score obtained on the sample is most of the time between 0.56 and 0.62. We can conclude that the average accuracy should be between these two values, which is true because we found earlier that the score is 0.6016."
      ],
      "metadata": {
        "id": "v0vF6NgVtz42"
      }
    },
    {
      "cell_type": "code",
      "source": [
        "import matplotlib.pyplot as plt\n",
        "\n",
        "def compute_accuracies_n_corpora(foo,n):\n",
        "  size = 50\n",
        "  liste = [compute_error_rate_random(foo, sample, size) for _ in range(n)]\n",
        "  plt.hist(liste, bins=20)\n",
        "  plt.title(f\"sentence accuracy distribution on {size}% of corpus\\n({n} iterations)\")\n",
        "  return liste\n",
        "liste = compute_accuracies_n_corpora(compute_accuracy, 1000)\n",
        "print(f\"min: {min(liste)}\")\n",
        "print(f\"max: {max(liste)}\")\n"
      ],
      "metadata": {
        "id": "jQU-rM_gDb7L",
        "colab": {
          "base_uri": "https://localhost:8080/",
          "height": 332
        },
        "outputId": "1678df91-a377-48f6-8ec1-da0f27441960"
      },
      "execution_count": null,
      "outputs": [
        {
          "output_type": "stream",
          "name": "stdout",
          "text": [
            "min: 0.5087719298245614\n",
            "max: 0.6710526315789473\n"
          ]
        },
        {
          "output_type": "display_data",
          "data": {
            "text/plain": [
              "<Figure size 432x288 with 1 Axes>"
            ],
            "image/png": "[encoded data removed]"
          },
          "metadata": {
            "needs_background": "light"
          }
        }
      ]
    },
    {
      "cell_type": "markdown",
      "source": [
        "Question 11:\n",
        "The code below computes the average and the standard deviation values of the POS tagger performance on larger and larger parts of the corpus. the greater the part of the corpus we consider, the more precise our results get. We can conclde that the bigger the test sample is, and the closer it will be from the value obtained on 100% of the corpus. Also, it is important to note that the values obtained on 10% of the corpus are somehow precise, already giving a rough idea on what the tagger precision is."
      ],
      "metadata": {
        "id": "Wpa6uyUcwKPO"
      }
    },
    {
      "cell_type": "code",
      "source": [
        "def compute_accuracy_n_percent_corpora(foo):\n",
        "  for n in range(10,110, 10):\n",
        "    liste = [compute_error_rate_random(foo, sample, n) for _ in range(10)]\n",
        "    print(f\"{n}% of corpus: average = {str(np.average(liste))[:6]}, standard deviation: {str(np.std(liste))[:6]}\")\n",
        "compute_accuracy_n_percent_corpora(compute_accuracy)"
      ],
      "metadata": {
        "id": "U-CTTSbqwI49",
        "colab": {
          "base_uri": "https://localhost:8080/"
        },
        "outputId": "31c73555-fd53-4fb3-dd14-ceeaf8d86c79"
      },
      "execution_count": null,
      "outputs": [
        {
          "output_type": "stream",
          "name": "stdout",
          "text": [
            "10% of corpus: average = 0.5622, standard deviation: 0.0795\n",
            "20% of corpus: average = 0.5890, standard deviation: 0.0381\n",
            "30% of corpus: average = 0.6029, standard deviation: 0.0352\n",
            "40% of corpus: average = 0.5791, standard deviation: 0.0255\n",
            "50% of corpus: average = 0.5956, standard deviation: 0.0198\n",
            "60% of corpus: average = 0.5945, standard deviation: 0.0200\n",
            "70% of corpus: average = 0.5884, standard deviation: 0.0141\n",
            "80% of corpus: average = 0.5912, standard deviation: 0.0047\n",
            "90% of corpus: average = 0.5892, standard deviation: 0.0067\n",
            "100% of corpus: average = 0.5899, standard deviation: 0.0\n"
          ]
        }
      ]
    },
    {
      "cell_type": "markdown",
      "source": [
        "Question 12:\n",
        "The error rate obtained on Sequoia corpus might be similar to the one obtained on the three next corpora since all of them are built from French sentences. But, despite being all French sentences, the source is different (oral, wikipedia, Minecraft...) which might result in changes in structure, vocabulary, leading towards better or worse results depending on such parameters..."
      ],
      "metadata": {
        "id": "lv_HK8zX06vZ"
      }
    },
    {
      "cell_type": "code",
      "source": [
        "import re\n",
        "def load_ud_files(path):\n",
        "  text = requests.get(path).text\n",
        "  text =  text.split(\"\\n#\")\n",
        "  main_tokens = []\n",
        "  main_golds = []\n",
        "  for sentence in text:\n",
        "    tokens = [s.split(\"\\t\")[1] for s in sentence.split(\"\\n\") if re.match(\"^[0-9]\", s)]\n",
        "    golds = [s.split(\"\\t\")[3] for s in sentence.split(\"\\n\") if re.match(\"^[0-9]\", s)]\n",
        "    if len(tokens) >= 1:\n",
        "       main_tokens.append(tokens)\n",
        "       main_golds.append(golds)\n",
        "  return main_tokens, main_golds\n",
        "\n",
        "parisstories_tokens, parisstories_golds = load_ud_files(\"https://raw.githubusercontent.com/g-armand/make-it-public/main/fr_parisstories-ud-test.txt\")\n",
        "parisstories_pred = tag_sentences(parisstories_tokens)\n",
        "print(\"parisstories sentence accuracy:\", str(compute_accuracy(parisstories_pred, parisstories_golds))[:6])\n",
        "print(\"parisstories macro accuracy:\", str(compute_macro_accuracy(parisstories_pred, parisstories_golds))[:6])\n",
        "print(\"parisstories micro accuracy:\", str(compute_micro_accuracy(parisstories_pred, parisstories_golds))[:6], \"\\n\")\n",
        "\n",
        "frgsd_tokens, frgsd_golds = load_ud_files(\"https://raw.githubusercontent.com/g-armand/make-it-public/main/fr_gsd-ud-test.txt\")\n",
        "frgsd_pred = tag_sentences(frgsd_tokens)\n",
        "print(\"frgsd sentence accuracy:\", str(compute_accuracy(frgsd_pred, frgsd_golds))[:6])\n",
        "print(\"frgsd macro accuracy:\", str(compute_macro_accuracy(frgsd_pred, frgsd_golds))[:6])\n",
        "print(\"frgsd micro accuracy:\", str(compute_micro_accuracy(frgsd_pred, frgsd_golds))[:6],\"\\n\")\n",
        "\n",
        "minecraft_tokens, minecraft_golds = read_json_github(  \"https://raw.githubusercontent.com/g-armand/make-it-public/main/minecraft.json\")\n",
        "minecraft_pred = tag_sentences(minecraft_tokens)\n",
        "print(\"minecraft sentence accuracy:\", str(compute_accuracy(minecraft_pred, minecraft_golds))[:6])\n",
        "print(\"minecraft macro accuracy:\", str(compute_macro_accuracy(minecraft_pred, minecraft_golds))[:6])\n",
        "print(\"minecraft micro accuracy:\", str(compute_micro_accuracy(minecraft_pred, minecraft_golds))[:6])"
      ],
      "metadata": {
        "id": "GYEtFByM2Kjo",
        "colab": {
          "base_uri": "https://localhost:8080/"
        },
        "outputId": "d9765034-f055-4d8a-8112-f707a40d7655"
      },
      "execution_count": null,
      "outputs": [
        {
          "output_type": "stream",
          "name": "stdout",
          "text": [
            "parisstories sentence accuracy: 0.1334\n",
            "parisstories macro accuracy: 0.8094\n",
            "parisstories micro accuracy: 0.8444 \n",
            "\n",
            "frgsd sentence accuracy: 0.1947\n",
            "frgsd macro accuracy: 0.7964\n",
            "frgsd micro accuracy: 0.8952 \n",
            "\n",
            "minecraft sentence accuracy: 0.0598\n",
            "minecraft macro accuracy: 0.5376\n",
            "minecraft micro accuracy: 0.4455\n"
          ]
        }
      ]
    }
  ]
}