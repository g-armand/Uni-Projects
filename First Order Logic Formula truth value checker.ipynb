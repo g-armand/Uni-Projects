{
  "nbformat": 4,
  "nbformat_minor": 0,
  "metadata": {
    "colab": {
      "private_outputs": true,
      "provenance": []
    },
    "kernelspec": {
      "name": "python3",
      "display_name": "Python 3"
    }
  },
  "cells": [
    {
      "cell_type": "markdown",
      "metadata": {
        "id": "NovkN-SVGJqw"
      },
      "source": [
        "# Goals:\n",
        "*   You have to implement model *checking* functions for **First Order Logic**, that automatically compute, for any closed formula and any model, the truth value of this formula in this model. (Having completed the model checking section of the first part of the assignment, about Propositional Logic, helps a lot with this part of the assignment.)"
      ]
    },
    {
      "cell_type": "markdown",
      "metadata": {
        "id": "maJnEwBPGTSY"
      },
      "source": [
        "# This is part of an assignment\n",
        "*   This Colab notebook contains the second (and last) part of the assignment.\n",
        "*   The assignment should be completed in group of two or three students.\n",
        "*   Students repeating the year (\"redoublant·e·s\") do not have to complete this assignment (but another one later in the semester).\n",
        "*   Your grade will depend in part on your code and in part on a short oral examination (a single examination for the whole assignment). To schedule an appointment, follow this link: https://appt.link/timothee-bernard/computational-semantics.\n",
        "*   Send me an email (timothee.m.r.bernard@gmail.com) by Sunday **12th 23:59** to inform me of the composition of your group. By this time, your group should also have scheduled an appointment for the oral examination. Malus: -2 per day of delay.\n",
        "*   Send me your work (both parts) completed by Sunday  **19th February 23:59**. Malus: -1 per day of delay.\n",
        "*   Make sure that your code is clear and well commented. **The quality of your code will be taken into account.**\n",
        "*   **Read all comments and follow all instructions very carefully.** If you do not understand one of them, ask me. Also, remember that everything (each method, its argument·s, etc.) is here for a reason.\n",
        "*   Any source of inspiration (e.g. the internet, some other student) should be properly acknowledged."
      ]
    },
    {
      "cell_type": "markdown",
      "source": [
        "# How to work efficiently with Colab on this project:\n",
        "*   Copy this notebook (File>Save a copy in Drive).\n",
        "*   In class, your group can be more efficient if each member works on their own copy: everyone can try to find a solution in parallel before sharing what works with the others.\n",
        "*   At some point (when most of the problems have been solved), you might want to use a single Colab notebook for the whole group. You can share your copy with your collaborators using the sharing menu."
      ],
      "metadata": {
        "id": "_FjFPFxbyS3X"
      }
    },
    {
      "cell_type": "markdown",
      "source": [
        "# How to send me your work:\n",
        "*   Use the sharing menu (top-right of the window) to share it with timothee.m.r.bernard@gmail.com.\n",
        "(I don't check this address very often, so, for questions, please use Moodle or my u-paris.fr address.)\n",
        "*   You are asked to share me both parts of the assignment. (So, two notebooks in total for your group.)\n",
        "*   Review your code before sharing it with me, in order to check that is is clear, concise and well commented. Also, execute it once again *from scratch* to make sure that I do not need to tinker with you code to execute it."
      ],
      "metadata": {
        "id": "-m8ver8vyU1L"
      }
    },
    {
      "cell_type": "markdown",
      "source": [
        "# Remark:\n",
        "*  The code you will find here uses tabulations for indentation. Please be aware of the fact that Python might not behave correctly if you use a mix of tabulations and spaces for indentation. There is a way to set Colab's settings so that the type of characters used for indentation is shown.\n",
        "*  Make sure that what you print is self-explanatory (one should not have to look at the code to understand what is printed). This advice is relevant to all assignments, for other courses as well as this one."
      ],
      "metadata": {
        "id": "QZcBBTMFv4PP"
      }
    },
    {
      "cell_type": "code",
      "metadata": {
        "id": "UnGxKvPhF-6w"
      },
      "source": [
        "# Checks that `o` is an instance of `t` (ex: integer, list).\n",
        "# Produces a clear error message otherwise.\n",
        "# This function is not essential but can help a lot for debugging.\n",
        "def check_type(o, t, name=None):\n",
        "\tif(name is None): name = \"[no name]\"\n",
        "\tassert isinstance(o, t), (f\"Type problem: variable {name} (type: {type(o)}; value: {o}) is not an instance of {t}\")"
      ],
      "execution_count": null,
      "outputs": []
    },
    {
      "cell_type": "code",
      "metadata": {
        "id": "w-DmwcdqISro"
      },
      "source": [
        "# Example 1:\n",
        "check_type([1,2,3], list) # Works fine because [1,2,3] is indeed a list."
      ],
      "execution_count": null,
      "outputs": []
    },
    {
      "cell_type": "code",
      "metadata": {
        "id": "J5sJSwtmIWQx"
      },
      "source": [
        "# Example 2:\n",
        "# check_type(1, list) # An AssertionError exception is raised because 1 is not a list."
      ],
      "execution_count": null,
      "outputs": []
    },
    {
      "cell_type": "markdown",
      "metadata": {
        "id": "rQ8t0UB1If5e"
      },
      "source": [
        "*  Although it would be possible to represent constants, variables and predicates with a string only (ex: \"Jeanne\", \"x\", \"eat\"), we here use three different classes for these three kinds of objects so that they can be more easily distinguished from each other.\n",
        "*  The `isinstance` function can be used to determine whether a given object instantiate a given class.\n",
        "*  The properties and methods of a class that have a name starting with an underscore (\"_\"; ex: `self._true_ps`) are not meant to be accessed directly outside of this class, but only within the class itself (in other words, they are *private*). While Python will not say anything special if you do not respect this convention, you definitely should."
      ]
    },
    {
      "cell_type": "code",
      "metadata": {
        "id": "G1zhHQ2DIXsQ"
      },
      "source": [
        "# Constant\n",
        "class C:\n",
        "\t# name: string\n",
        "\tdef __init__(self, name):\n",
        "\t\tcheck_type(name, str, \"name\")\n",
        "\n",
        "\t\tself._name = name\n",
        "\n",
        "\t# Defines the behaviour of \"==\".\n",
        "\t# In this case: two C·s are considered equal if they have the same `_name`.\n",
        "\tdef __eq__(self, other):\n",
        "\t\treturn isinstance(other, C) and self._name == other._name\n",
        "\n",
        "\t# Required to be able to use the class in sets or dictionaries.\n",
        "\tdef __hash__(self):\n",
        "\t\treturn hash(self._name)\n",
        "\n",
        "\t# Returns a string representation of the object. Used to print the object in a readable way.\n",
        "\tdef __str__(self):\n",
        "\t\treturn self._name\n",
        "\n",
        "\t# Returns a string representation of the object. Also used to print the object in a readable way.\n",
        "\tdef __repr__(self):\n",
        "\t\treturn str(self)"
      ],
      "execution_count": null,
      "outputs": []
    },
    {
      "cell_type": "code",
      "metadata": {
        "id": "K_ODKxEhIve7"
      },
      "source": [
        "# Variable\n",
        "class V:\n",
        "\t# name: string\n",
        "\tdef __init__(self, name):\n",
        "\t\tcheck_type(name, str, \"name\")\n",
        "\n",
        "\t\tself._name = name\n",
        "\n",
        "\t# Defines the behaviour of \"==\".\n",
        "\t# In this case: two V·s are considered equal if they have the same `_name`.\n",
        "\tdef __eq__(self, other):\n",
        "\t\treturn isinstance(other, V) and self._name == other._name\n",
        "\n",
        "\t# Required to be able to use the class in sets or dictionaries.\n",
        "\tdef __hash__(self):\n",
        "\t\treturn hash(self._name)\n",
        "\n",
        "\t# Returns a string representation of the object. Used to print the object in a readable way.\n",
        "\tdef __str__(self):\n",
        "\t\treturn self._name\n",
        "\n",
        "\t# Returns a string representation of the object. Also used to print the object in a readable way in more complex case.\n",
        "\tdef __repr__(self):\n",
        "\t\treturn str(self)"
      ],
      "execution_count": null,
      "outputs": []
    },
    {
      "cell_type": "code",
      "metadata": {
        "id": "WqOjdtJEIxGC"
      },
      "source": [
        "# Predicate\n",
        "class P:\n",
        "\t# name: string\n",
        "\t# arity: int\n",
        "\tdef __init__(self, name, arity):\n",
        "\t\tcheck_type(name, str, \"name\")\n",
        "\t\tcheck_type(arity, int, \"arity\")\n",
        "\n",
        "\t\tself._name = name\n",
        "\t\tself.arity = arity\n",
        "\n",
        "\t# Defines the behaviour of \"==\".\n",
        "\t# In this case: two P·s are considered equal if they have the same `_name` and the same `arity`.\n",
        "\tdef __eq__(self, other):\n",
        "\t\treturn isinstance(other, P) and (self._name == other._name) and (self.arity == other.arity)\n",
        "\n",
        "\t# Required to be able to use the class in sets or dictionaries.\n",
        "\tdef __hash__(self):\n",
        "\t\treturn hash((self._name, self.arity))\n",
        "\n",
        "\t# Returns a string representation of the object. Used to print the object in a readable way.\n",
        "\tdef __str__(self):\n",
        "\t\treturn self._name\n",
        "\n",
        "\t# Returns a string representation of the object. Also used to print the object in a readable way.\n",
        "\tdef __repr__(self):\n",
        "\t\treturn str(self)"
      ],
      "execution_count": null,
      "outputs": []
    },
    {
      "cell_type": "markdown",
      "metadata": {
        "id": "3tz_-c3KI1Cb"
      },
      "source": [
        "# Instructions\n",
        "*  Instantiate and then print a constant \"Sabine\", a variable \"x\" and a binary predicate \"eat\".\n",
        "*  Use `isinstance` to check that these objects instantiate the class you think they instantiate."
      ]
    },
    {
      "cell_type": "code",
      "metadata": {
        "id": "j4hA3SzhIyaJ"
      },
      "source": [
        "sabine = C(\"Sabine\")\n",
        "x = V(\"x\")\n",
        "eat = P(\"eat\", 2)\n",
        "\n",
        "print(f\"{sabine} is an instance of C: {isinstance(sabine, C)}\")\n",
        "print(f\"{x} is an instance of V: {isinstance(x, V)}\")\n",
        "print(f\"{eat} is an instance of P: {isinstance(eat, P)}\")\n",
        "\n",
        "print(f\"\\n{sabine} is an instance of P: {isinstance(sabine, P)}\")\n",
        "print(f\"{x} is an instance of P: {isinstance(x, P)}\")\n"
      ],
      "execution_count": null,
      "outputs": []
    },
    {
      "cell_type": "markdown",
      "metadata": {
        "id": "72Uqgg6XJWU2"
      },
      "source": [
        "A model of First Order Logic consists of a domain and an interpretation function.\n",
        "*  The domain is simply a set the element of which are called \"individuals\". Here, individuals will be integers.\n",
        "*  The interpretation function sends any constant to an individual and any predicate to a tuple of individuals (see slides)."
      ]
    },
    {
      "cell_type": "code",
      "metadata": {
        "id": "Y82NuUCCJbTy"
      },
      "source": [
        "class InterpretationFunc:\n",
        "\t# c_dic: dictionary; keys are C·s, values are integers\n",
        "\t# p_dic: dictionary; keys are P·s, values are sets of tuples of integers\n",
        "\tdef __init__(self, c_dic, p_dic):\n",
        "\t\tself._c_dic = c_dic\n",
        "\t\tself._p_dic = p_dic\n",
        "\n",
        "\t# Remark: __getitem__ can be called using the []-notation: \"i[x]\" is translated as \"i.__getitem__(x)\".\n",
        "\t# Returns the interpretation of `x`.\n",
        "\t# x: either a C or a P\n",
        "\tdef __getitem__(self, x):\n",
        "\t\tif(isinstance(x, C)): return self._c_dic[x] # Raises an exception if the constant has no entry in `_c_dic`.\n",
        "\t\tif(isinstance(x, P)): return self._p_dic.get(x, set()) # Returns an empty set if the predicate has no entry in `_p_dic`.\n",
        "\t\traise TypeError\n",
        "\n",
        "\t# Returns the list obtained from `l` by replacing all constants by their interpretation (other elements should appear unaffected).\n",
        "\t# (Be aware that this function returns a list and not a tuple. If you need a tuple, use the `tuple` function to convert the list into one.)\n",
        "\t# l: list of C·s and V·s\n",
        "\tdef map(self, l):\n",
        "\t\tcheck_type(l, list, \"l\")\n",
        "\t\treturn [self[x] if isinstance(x, C) else x for x in l]\n",
        "\n",
        "\t# Returns a string representation of the object. Used to print the object in a readable way.\n",
        "\tdef __str__(self):\n",
        "\t\ttmp = list(self._c_dic.items())\n",
        "\t\ttmp.extend(self._p_dic.items())\n",
        "\t\ts = ', '.join([f\"{k}: {v}\" for (k, v) in tmp])\n",
        "\t\treturn '{' + s + '}'"
      ],
      "execution_count": null,
      "outputs": []
    },
    {
      "cell_type": "markdown",
      "metadata": {
        "id": "U6mtVYM5JjFe"
      },
      "source": [
        "# Instructions\n",
        "*  Complete `InterpretationFunc.map` above.\n",
        "*  Instantiate an interpretation function `i_func` that interprets the constant \"Sabine\" as the integer 1, and predicates \"tall\" \"eat\" and \"like\" as non-empty sets. Warning: the one-tuple composed of element `x` is written as `(x,)` in Python (instead of `(x)`, which is just another way to write `x`).\n",
        "*  Print `i_func`."
      ]
    },
    {
      "cell_type": "code",
      "metadata": {
        "id": "T7w0KRlFJhbJ"
      },
      "source": [
        "tall = P(\"tall\", 1)\n",
        "like = P(\"like\", 2)\n",
        "y = V(\"y\")\n",
        "apple = C(\"an apple\")\n",
        "mary = C(\"Mary\")\n",
        "\n",
        "c_dic = {sabine: 1, mary: 2, apple: 3}\n",
        "p_dic = {tall: {(1,)}, eat: {(1,3)}, like: {(2,1)}}\n",
        "\n",
        "i_func = InterpretationFunc(c_dic, p_dic)\n",
        "print(f\"i_func = {i_func}\")"
      ],
      "execution_count": null,
      "outputs": []
    },
    {
      "cell_type": "code",
      "metadata": {
        "id": "NiusaZuSKpU4"
      },
      "source": [
        "class Model:\n",
        "\t# domain: set of integers\n",
        "\t# i_func: InterpretationFunc\n",
        "\tdef __init__(self, domain, i_func):\n",
        "\t\tcheck_type(domain, set, \"domain\")\n",
        "\t\tcheck_type(i_func, InterpretationFunc, \"i_func\")\n",
        "\n",
        "\t\tself.domain = domain\n",
        "\t\tself.i_func = i_func\n",
        "\n",
        "\t# Returns a string representation of the object. Used to print the object in a readable way.\n",
        "\tdef __str__(self):\n",
        "\t\treturn f'{{D={self.domain}; I={self.i_func}}}'"
      ],
      "execution_count": null,
      "outputs": []
    },
    {
      "cell_type": "markdown",
      "metadata": {
        "id": "bvLbRNJfKl2E"
      },
      "source": [
        "# Instructions\n",
        "*  Instantiate a model `model` from a finite domain and the `i_func` interpretation function defined previously.\n",
        "*  Print `model`."
      ]
    },
    {
      "cell_type": "code",
      "metadata": {
        "id": "IbVxbQgJKmVw"
      },
      "source": [
        "model = Model({1,2,3}, i_func)\n",
        "print(f\"model = {model}\")"
      ],
      "execution_count": null,
      "outputs": []
    },
    {
      "cell_type": "markdown",
      "metadata": {
        "id": "F4H2_Ad2LZ0f"
      },
      "source": [
        "* \tWe here use partial variable assignment (i.e. that may not assign a value to all variables).\n",
        "* \tIn order to interpret a formula, we will start from an empty variable assignment and then expend/update it when a quantifier is encountered (see the clause for the interpretation of quantifiers in the slides)."
      ]
    },
    {
      "cell_type": "markdown",
      "metadata": {
        "id": "WiY39TDD0962"
      },
      "source": [
        "# Instructions\n",
        "*  Complete `VarAssignment.assign`.\n",
        "*  Complete `VarAssignment.map`."
      ]
    },
    {
      "cell_type": "code",
      "metadata": {
        "id": "_lv7TcRXLY6Y"
      },
      "source": [
        "# For variable assignments.\n",
        "class VarAssignment:\n",
        "\t# dic: dictionary; keys are Vs, values are integers\n",
        "\t# If `dic` is not specified, the empty dictionary ({}) is used.\n",
        "\tdef __init__(self, dic={}):\n",
        "\t\tcheck_type(dic, dict, \"dic\")\n",
        "\n",
        "\t\tself._dic = dic\n",
        "\n",
        "\t# Returns the variable assignment that only differ from the present one (i.e. `self`) with \"x := d\".\n",
        "\t# The present assignment is not modified and a new assignment is instantiated.\n",
        "\t# x: V\n",
        "\t# d: integer\n",
        "\tdef assign(self, x, d):\n",
        "\t\tcheck_type(x, V, \"x\")\n",
        "\t\tcheck_type(d, int, \"d\")\n",
        "\n",
        "\t\t#create a shallow copy of self and update its assignments\n",
        "\t\tnew_var_assignement= VarAssignment(self._dic.copy())\n",
        "\t\tnew_var_assignement._dic.update({x:d})\n",
        "\t\treturn new_var_assignement\n",
        "\n",
        "\t# Returns the list obtained from `l` by replacing all variables by their assignments (other elements should appear unaffected).\n",
        "\t# (Be aware that this function returns a list and not a tuple. If you need a tuple, use the `tuple` function to convert the list into one.)\n",
        "\t# l: list\n",
        "\tdef map(self, l):\n",
        "\t\tcheck_type(l, list, \"l\")\n",
        "\t\treturn [self._dic.get(x, x) if isinstance(x, V) else x for x in l]\n",
        "\n",
        "\t# Returns a string representation of the object. Used to print the object in a nice way.\n",
        "\tdef __str__(self):\n",
        "\t\treturn f'{self._dic}'"
      ],
      "execution_count": null,
      "outputs": []
    },
    {
      "cell_type": "code",
      "source": [
        "\"\"\" Test de VarAssignment \"\"\"\n",
        "v_dic = {V(\"x\"): 1, V(\"y\"): 2}\n",
        "var_ass_test = VarAssignment(v_dic)\n",
        "\n",
        "print(f\"var assignment is: {var_ass_test}\")\n",
        "print(f\"After assigning x to 2, new var assignment is: {var_ass_test.assign(x, 2)}\")\n",
        "\n",
        "l = [C(\"Sabine\"), V(\"x\"), C(\"Antoine\"), V(\"y\") ]\n",
        "print(f\"\\nAfter the assignment of the variables in {l}, the new list is:\\n{var_ass_test.map(l)}\")"
      ],
      "metadata": {
        "id": "SUjsVrv6idoj"
      },
      "execution_count": null,
      "outputs": []
    },
    {
      "cell_type": "code",
      "source": [
        "var_ass = VarAssignment()"
      ],
      "metadata": {
        "id": "OJrb2QZXkQiG"
      },
      "execution_count": null,
      "outputs": []
    },
    {
      "cell_type": "markdown",
      "metadata": {
        "id": "onimMTmfL_m2"
      },
      "source": [
        "*  For this TP, a formula is represented by an instance of the class `Formula` (in fact, of some sub-class of `Formula`).\n",
        "*  There is one sub-class for each \"kind\" of formulas, that is to say for each clause in the inductive definition of the language of FOL."
      ]
    },
    {
      "cell_type": "code",
      "metadata": {
        "id": "ud96YJ-VLuQy"
      },
      "source": [
        "# The general class for logical formulas.\n",
        "# This class is sub-classed below.\n",
        "class Formula:\n",
        "\t# Checks whether the formula is true according to the model `m`.\n",
        "\t# The use of this method requires that the formula be closed.\n",
        "\t# This method does almost nothing by itself. All the work is done by the `check` method defined for each kind of formulas (sub-classes of `Formula`).\n",
        "\t# m: Model\n",
        "\tdef check_closed(self, m):\n",
        "\t\tcheck_type(m, Model, \"m\")\n",
        "\n",
        "\t\tf = VarAssignment() # Empty partial variable assignment.\n",
        "\t\treturn self.check(m, f)"
      ],
      "execution_count": null,
      "outputs": []
    },
    {
      "cell_type": "markdown",
      "metadata": {
        "id": "goAz4RWIMmmu"
      },
      "source": [
        "# Instructions\n",
        "*  `PredApp` is the sub-class corresponding to formulas composed of a single predicate with all of its arguments (1st clause in the definition of the language of FOL).\n",
        "*  Complete `PredApp.check`. (The slide about the interpretation of FOL formulas contains all the information you need.)\n",
        "*  Then, instantiate three formulas (closed or not), using `PredApp` and print  their interpretation according in `model` for some variable assignment (that you have to instantiate)."
      ]
    },
    {
      "cell_type": "code",
      "metadata": {
        "id": "IamyUsHWL19b"
      },
      "source": [
        "# Predicate application\n",
        "class PredApp(Formula):\n",
        "\t# pred: P\n",
        "\t# args: list of V·s and C·s\n",
        "\tdef __init__(self, pred, args):\n",
        "\t\tcheck_type(pred, P, \"pred\")\n",
        "\t\tassert (pred.arity == len(args)), f\"{pred.arity} argument·s expected but {len(args)} given.\"\n",
        "\t\tcheck_type(args, list, \"args\")\n",
        "\n",
        "\t\tself._pred = pred\n",
        "\t\tself._args = args\n",
        "\n",
        "\t# Checks whether the formula is true according to the model `m` and the variable assignment `f`.\n",
        "\t# m: Model\n",
        "\t# f: VarAssignment\n",
        "\tdef check(self, m, f) -> bool:\n",
        "\t\t\tcheck_type(m, Model, \"m\")\n",
        "\t\t\tcheck_type(f, VarAssignment, \"f\")\n",
        "\n",
        "\t\t\t# Check if predApp has the same arguments as the input\n",
        "\t\t\tfor arg in f.map(self._args):\n",
        "\t\t\t\t# If after the mapping, there remains a V that hasn't been assigned to an int:\n",
        "\t\t\t\tif isinstance(arg, V):\n",
        "\t\t\t\t\treturn False\n",
        "\t\t\t# Check if the pred required args and self._args match\n",
        "\t\t\ttry:\n",
        "\t\t\t\tvalid_args = m.i_func[self._pred]\n",
        "\t\t\t\t#print(m.i_func.map(f.map(self._args))) #uncomment to see what arguments are tested in Ex\n",
        "\t\t\t\treturn tuple(m.i_func.map(f.map(self._args))) in valid_args\n",
        "\n",
        "\t\t\texcept TypeError:\n",
        "\t\t\t\treturn False\n",
        "\n",
        "\n",
        "\t# Returns a string representation of the object. Used to print the object in a readable way.\n",
        "\tdef __str__(self):\n",
        "\t\treturn f\"{self._pred}({','.join([str(x) for x in self._args])})\""
      ],
      "execution_count": null,
      "outputs": []
    },
    {
      "cell_type": "code",
      "source": [
        "\"\"\" Test de PredApp \"\"\"\n",
        "\n",
        "sabine_is_tall = PredApp(tall, [sabine])\n",
        "print(f\"'Sabine is tall' ({sabine_is_tall}) is: \", sabine_is_tall.check(model, var_ass))\n",
        "\n",
        "sabine_eats_apple = PredApp(eat, [sabine, 3])\n",
        "print(f\"'Sabine eats an apple' ({sabine_eats_apple}) is: \", sabine_eats_apple.check(model, var_ass))"
      ],
      "metadata": {
        "id": "rEstMcXbrwqf"
      },
      "execution_count": null,
      "outputs": []
    },
    {
      "cell_type": "markdown",
      "metadata": {
        "id": "KEOO3_5YNj0M"
      },
      "source": [
        "# Instructions\n",
        "*  Write `Neg`, a sub-class of `Formula`, for negation.\n",
        "*  This class must possess, in addition to a constructor (`__init__`), a `check` method and a `__str__` one (see `PredApp`; you can use the ¬ symbol in `__str__`).\n",
        "*  (The slide about the syntax of FOL and the one about its semantics contain all the information you need.)\n",
        "*  Use `check_type` at the beginning of each method in order to check the type of each argument.\n",
        "*  Instantiate several formulas using `Neg`, display these formulas and there value in some model for some variable assignment."
      ]
    },
    {
      "cell_type": "code",
      "metadata": {
        "id": "vxHNe4F_ONx6"
      },
      "source": [
        "# negation\n",
        "class Neg(Formula):\n",
        "\t# formula : Formula\n",
        "\tdef __init__(self, formula):\n",
        "\t\tcheck_type(formula, Formula, \"formula\")\n",
        "\n",
        "\t\tself._formula = formula\n",
        "\n",
        "\t# Checks whether the formula is true according to the model `m` and the variable assignment `f`.\n",
        "\t# m: Model\n",
        "\t# f: VarAssignment\n",
        "\tdef check(self, m, f):\n",
        "\t\tcheck_type(m, Model, \"m\")\n",
        "\t\tcheck_type(f, VarAssignment, \"f\")\n",
        "\n",
        "\t\tif self._formula.check(m,f):\n",
        "\t\t\treturn False\n",
        "\t\telse:\n",
        "\t\t\treturn True\n",
        "\n",
        "\t# Returns a string representation of the object. Used to print the object in a readable way.\n",
        "\tdef __str__(self):\n",
        "\t\treturn f\"¬ {self._formula}\""
      ],
      "execution_count": null,
      "outputs": []
    },
    {
      "cell_type": "code",
      "source": [
        "\"\"\" Test de Neg \"\"\"\n",
        "\n",
        "sabine_not_tall = Neg(sabine_is_tall)\n",
        "print(f\"'Sabine is not tall' ({sabine_not_tall}) is: \", sabine_not_tall.check(model, var_ass))\n",
        "\n",
        "sabine_not_eats_apple = Neg(sabine_eats_apple)\n",
        "print(f\"'Sabine does not eat apple' ({sabine_not_eats_apple}) is: \", sabine_not_eats_apple.check(model, var_ass))\n",
        "\n",
        "sabine_likes_mary = PredApp(like, [sabine, mary])\n",
        "sabine_not_like_mary = Neg(sabine_likes_mary)\n",
        "print(f\"'Sabine does not like Mary' ({sabine_not_like_mary}) is: \", sabine_not_like_mary.check(model, var_ass))"
      ],
      "metadata": {
        "id": "Le8kpXdIxkxk"
      },
      "execution_count": null,
      "outputs": []
    },
    {
      "cell_type": "markdown",
      "metadata": {
        "id": "9uX9Zej0OaQ2"
      },
      "source": [
        "# Instructions\n",
        "*  Same instructions for `Ex`, a sub-class for existential quantification.\n",
        "*  (You can use the ∃ symbol in `__str__`.)"
      ]
    },
    {
      "cell_type": "code",
      "metadata": {
        "id": "e5hjOINaOi6r"
      },
      "source": [
        "# Existential quantification\n",
        "class Ex(Formula):\n",
        "\t# formula : Formula\n",
        "\t# bound_var : V\n",
        "\tdef __init__(self, formula, bound_var):\n",
        "\t\tcheck_type(formula, Formula, \"formula\")\n",
        "\t\tcheck_type(bound_var, V, \"bound_var\")\n",
        "\n",
        "\t\tself.bound_var = bound_var\n",
        "\t\tself.formula = formula\n",
        "\n",
        "\t# Checks whether the formula is true according to the model `m` and the variable assignment `f`.\n",
        "\t# m: Model\n",
        "\t# f: VarAssignment\n",
        "\tdef check(self, m, f):\n",
        "\t\tcheck_type(m, Model, \"m\")\n",
        "\t\tcheck_type(f, VarAssignment, \"f\")\n",
        "\n",
        "\t\t# assign every entity in the domain to self.bound_var, if the formula is true for at least one of them, the formula is true\n",
        "\t\tfor entity in m.domain:\n",
        "\t\t\tnew_f = f.assign(self.bound_var, entity)\n",
        "\t\t\tif self.formula.check(m, new_f):\n",
        "\t\t\t\treturn True\n",
        "\t\t# otherwise, the formula is false\n",
        "\t\treturn False\n",
        "\n",
        "\t# Returns a string representation of the object. Used to print the object in a readable way.\n",
        "\tdef __str__(self):\n",
        "\t\treturn f\"∃{self.bound_var}.{self.formula}\""
      ],
      "execution_count": null,
      "outputs": []
    },
    {
      "cell_type": "code",
      "source": [
        "\"\"\" Test de Ex \"\"\"\n",
        "\n",
        "someone_is_tall = Ex(PredApp(tall, [x]), x)\n",
        "print(f\"'someone is tall' ({someone_is_tall}) is: \", someone_is_tall.check(model, var_ass))\n",
        "\n",
        "sabine_eats_something = Ex(PredApp(eat, [sabine, x]), x)\n",
        "print(f\"'sabine eats something' ({sabine_eats_something}) is: \", sabine_eats_something.check(model, var_ass))\n",
        "\n",
        "sabine_likes_someone = Ex(PredApp(like, [sabine, x]), x)\n",
        "print(f\"'sabine likes someone' ({sabine_likes_someone}) is: \", sabine_likes_someone.check(model, var_ass))\n",
        "\n",
        "someone_likes_sabine = Ex(PredApp(like, [x, sabine]), x)\n",
        "print(f\"'someone likes sabine' ({someone_likes_sabine}) is: \", someone_likes_sabine.check(model, var_ass))"
      ],
      "metadata": {
        "id": "Q_gaPkk9BSYv"
      },
      "execution_count": null,
      "outputs": []
    },
    {
      "cell_type": "markdown",
      "metadata": {
        "id": "U_XYwGM2OlD4"
      },
      "source": [
        "# Instructions\n",
        "*  Same instructions for `Conj`, a sub-class for conjunction.\n",
        "*  (You can use the ∧ symbol in `__str__`)"
      ]
    },
    {
      "cell_type": "code",
      "metadata": {
        "id": "R9w6TS_JOpgj"
      },
      "source": [
        "# Conjunction\n",
        "class Conj(Formula):\n",
        "\t# formulas: list of Formula instances\n",
        "  def __init__(self, formulas):\n",
        "    check_type(formulas, list, \"formulas\")\n",
        "    [check_type(form, Formula, \"form\") for form in formulas]\n",
        "\n",
        "    self._formulas = formulas\n",
        "\n",
        "\t# Checks whether the formula is true according to the model `m` and the variable assignment `f`.\n",
        "\t# m: Model\n",
        "\t# f: VarAssignment\n",
        "  def check(self, m, f):\n",
        "    check_type(m, Model, \"m\")\n",
        "    check_type(f, VarAssignment, \"f\")\n",
        "\n",
        "    #the conjunction is False as soon as one of the conjuncts is false\n",
        "    for formula in self._formulas:\n",
        "      if formula.check(m, f) == False:\n",
        "        return False\n",
        "    #otherwise, it is True\n",
        "    return True\n",
        "\n",
        "\t# Returns a string representation of the object. Used to print the object in a readable way.\n",
        "  def __str__(self):\n",
        "    return \"(\"+\" ∧ \".join([str(formula) for formula in self._formulas])+\")\""
      ],
      "execution_count": null,
      "outputs": []
    },
    {
      "cell_type": "code",
      "source": [
        "\"\"\" Test de Conj \"\"\"\n",
        "sabine_tall_and_eats_apple = Conj([sabine_is_tall, sabine_eats_apple])\n",
        "print(f\"'sabine is tall and eats an apple' ({sabine_tall_and_eats_apple}) is: \", sabine_tall_and_eats_apple.check(model, var_ass))\n",
        "\n",
        "sabine_not_tall_and_eats_apple = Conj([Neg(sabine_is_tall), sabine_eats_apple])\n",
        "print(f\"'sabine is not tall and eats an apple' ({sabine_not_tall_and_eats_apple}) is: \", sabine_not_tall_and_eats_apple.check(model, var_ass))"
      ],
      "metadata": {
        "id": "9sHNAISHBBPG"
      },
      "execution_count": null,
      "outputs": []
    },
    {
      "cell_type": "markdown",
      "metadata": {
        "id": "I9nypw_aR_pu"
      },
      "source": [
        "# Instructions\n",
        "*   Test `check_closed` using several complex and diversed closed formulas."
      ]
    },
    {
      "cell_type": "code",
      "source": [
        "sabine_is_tall = PredApp(tall, [sabine])\n",
        "sabine_eats_apple = PredApp(eat, [sabine, apple])\n",
        "mary_is_tall = PredApp(tall, [mary])\n",
        "sabine_likes_mary = PredApp(like, [sabine, mary])\n",
        "mary_likes_sabine = PredApp(like, [mary, sabine])\n",
        "\n",
        "sabine_not_tall = Neg(sabine_is_tall)\n",
        "sabine_not_eats_apple = Neg(sabine_eats_apple)\n",
        "\n",
        "someone_is_tall = Ex(PredApp(tall, [x]), x)\n",
        "sabine_eats_something = Ex(PredApp(eat, [sabine, x]), x)\n",
        "sabine_likes_someone = Ex(PredApp(like, [sabine, x]), x)\n",
        "someone_likes_sabine = Ex(PredApp(like, [x, sabine]), x)"
      ],
      "metadata": {
        "id": "FYjXYmisJNKZ"
      },
      "execution_count": null,
      "outputs": []
    },
    {
      "cell_type": "code",
      "metadata": {
        "id": "zSO3_RdcSABv"
      },
      "source": [
        "# ¬(¬p ∧ ¬q) = p v q\n",
        "print(\"--- disjunction: ---\")\n",
        "# tall(sabine) v eat(sabine, apple)\n",
        "disjunction = Neg(Conj([Neg(sabine_is_tall), Neg(sabine_eats_apple)]))\n",
        "print(disjunction, \" : \", disjunction.check_closed(model))\n",
        "\n",
        "# tall(sabine) v tall(mary)\n",
        "disjunction2 = Neg(Conj([Neg(sabine_is_tall), Neg(mary_is_tall)]))\n",
        "print(disjunction2, \" : \", disjunction2.check_closed(model))\n",
        "\n",
        "# tall(mary) v like(sabine, mary)\n",
        "disjunction3 = Neg(Conj([Neg(mary_is_tall), Neg(sabine_likes_mary)]))\n",
        "print(disjunction3, \" : \", disjunction3.check_closed(model))\n",
        "\n",
        "# ¬(p ∧ ¬q) = p -> q\n",
        "print(\"\\n--- implication ---\")\n",
        "# tall(sabine) -> eat(sabine, apple)\n",
        "implication = Neg(Conj([sabine_is_tall, Neg(sabine_eats_apple)]))\n",
        "print(implication, \" : \", implication.check_closed(model))\n",
        "\n",
        "# tall(sabine) -> tall(mary)\n",
        "implication2 = Neg(Conj([sabine_is_tall, Neg(mary_is_tall)]))\n",
        "print(implication2, \" : \", implication2.check_closed(model))\n",
        "\n",
        "# tall(mary) -> tall(sabine)\n",
        "implication3 = Neg(Conj([mary_is_tall, Neg(sabine_is_tall)]))\n",
        "print(implication3, \" : \", implication3.check_closed(model))\n",
        "\n",
        "# p ∧ ¬p\n",
        "print(\"\\n--- contradiction: ---\")\n",
        "# tall(sabine) ∧ ¬tall(sabine)\n",
        "contradiction = Conj([sabine_is_tall, sabine_not_tall])\n",
        "print(contradiction, \" : \", contradiction.check_closed(model))\n",
        "\n",
        "# ¬(p ∧ ¬p)\n",
        "print(\"\\n--- tautology: ---\")\n",
        "# ¬(tall(sabine) ∧ ¬tall(sabine))\n",
        "tautology = Neg(Conj([sabine_is_tall, sabine_not_tall]))\n",
        "print(tautology, \" : \", tautology.check_closed(model))\n",
        "\n",
        "print(\"\\n--- existential: ---\")\n",
        "# ∃x. tall(x) ∧ eat(sabine, x)\n",
        "existential_test1 = Ex(Conj([PredApp(tall, [x]), PredApp(eat, [sabine, x])]), x)\n",
        "print(existential_test1, \" : \", existential_test1.check_closed(model))\n",
        "\n",
        "# ∃x. tall(x) ∧ like(mary, x)\n",
        "existential_test2 = Ex(Conj([PredApp(tall, [x]), PredApp(like, [mary, x])]), x)\n",
        "print(existential_test2, \" : \", existential_test2.check_closed(model))\n",
        "\n",
        "# ∃y.∃x. tall(x) ∧ eat(sabine, y)\n",
        "existential_test3 = Ex(Ex(Conj([PredApp(tall, [x]), PredApp(eat, [sabine, y])]), x), y)\n",
        "print(existential_test3, \" : \", existential_test3.check_closed(model))\n",
        "\n",
        "# ∃y.∃x. like(x, y)\n",
        "existential_test4 = Ex(Ex(PredApp(like, [x, y]), x), y)\n",
        "print(existential_test4, \" : \", existential_test4.check_closed(model))\n",
        "\n",
        "# ∃y.∃x.(like(x,y) ∧ ¬like(y,x))\n",
        "existential_test5 = Ex(Ex(Conj([PredApp(like, [x, y]), Neg(PredApp(like, [y, x]))]), x), y)\n",
        "print(existential_test5, \" : \", existential_test5.check_closed(model))"
      ],
      "execution_count": null,
      "outputs": []
    }
  ]
}